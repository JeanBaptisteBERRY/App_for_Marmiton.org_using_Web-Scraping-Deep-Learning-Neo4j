{
 "cells": [
  {
   "cell_type": "markdown",
   "metadata": {},
   "source": [
    "# Script de scraper pour collecter les recettes de marmiton.org"
   ]
  },
  {
   "cell_type": "markdown",
   "metadata": {},
   "source": [
    "**Note :** Dans ce Notebook nous ne collecterons que $100$ recettes du site marmiton.org, à titre d'exemple. En effet, lancer le scraper sur l'ensemble des recettes du site prenant un peu de temps on ne le lancera pas ici sur les $30000$ recettes.\n",
    "\n",
    "On importe les librairies dont nous aurons besoin."
   ]
  },
  {
   "cell_type": "code",
   "execution_count": 36,
   "metadata": {
    "collapsed": true
   },
   "outputs": [],
   "source": [
    "#Pour collecter les pages web\n",
    "from bs4 import BeautifulSoup\n",
    "from urllib.request import urlopen\n",
    "import requests\n",
    "\n",
    "from numpy import *\n",
    "import time \n",
    "\n",
    "#Pour gérer les json\n",
    "import json\n",
    "import jsonpickle\n",
    "\n",
    "list_url= []\n",
    "list_new_url=[]\n",
    "list_recette=[]\n",
    "\n",
    "#Dans cette exemple nous allons récupérer les recettes de plats principaux\n",
    "url = 'http://www.marmiton.org/recettes/recherche.aspx?aqt=plat-principal'\n",
    "prefix = 'http://www.marmiton.org'\n",
    "page = requests.get(url)\n",
    "soup = BeautifulSoup(page.content, 'lxml')\n",
    "new_url = soup.find_all('nav')[-2].find('li',attrs={'class','next-page'}).find('a').get('href')\n",
    "list_url.append(url)"
   ]
  },
  {
   "cell_type": "markdown",
   "metadata": {},
   "source": [
    "Ci-dessus, nous initialisons le scraper en lui donnant l'url de la page de laquelle il commencera à scraper.\n",
    "Ensuite, on parcourt toutes les url de pages listant des recettes (chaque page contient $15$ urls de recettes que nous récupérerons ensuite)."
   ]
  },
  {
   "cell_type": "code",
   "execution_count": 37,
   "metadata": {},
   "outputs": [
    {
     "name": "stdout",
     "output_type": "stream",
     "text": [
      "Nombre d'urls récupérées :  2205\n"
     ]
    }
   ],
   "source": [
    "#Pour prendre toute les url de pages suivantes de manière générale\n",
    "#while type(new_url)==str:\n",
    "#    list_url.append(new_url)\n",
    "#    page = requests.get(prefix+new_url)\n",
    "#    soup = BeautifulSoup(page.content, 'lxml')\n",
    "#    new_url = soup.find_all('nav')[-2].find('li',attrs={'class','next-page'}).find('a').get('href')\n",
    "#    print(len(list_url))\n",
    "\n",
    "#Connaissant la structure des urls du site, on récupérera beaucoup plus rapidement les urls avec :\n",
    "gen ='/recettes/recherche.aspx?aqt=plat-principal&start='\n",
    "for i in range (12,26460,12):\n",
    "    list_url.append(prefix + gen + str(i))\n",
    "print('Nombre d\\'urls récupérées : ', len(list_url))"
   ]
  },
  {
   "cell_type": "markdown",
   "metadata": {},
   "source": [
    "**Notes : ** $26460$ est ici approximativement le nombre de recettes disponibles le jour ou nous lançons le programme, ce nombre est susceptible de changer, c'est à vérifier sur le site."
   ]
  },
  {
   "cell_type": "markdown",
   "metadata": {},
   "source": [
    "On collecte toutes les urls de recettes ainsi contenues dans les urls précédentes."
   ]
  },
  {
   "cell_type": "code",
   "execution_count": 51,
   "metadata": {},
   "outputs": [
    {
     "name": "stdout",
     "output_type": "stream",
     "text": [
      "105 urls de recettes récupérées\n"
     ]
    }
   ],
   "source": [
    "#Pour collecter toutes les url de recettes (ici on ne collectera que les 100 premières)\n",
    "    \n",
    "for i in range(len(list_url)) :\n",
    "    if len(list_recette) < 100 :\n",
    "        page = requests.get(list_url[i])\n",
    "        soup = BeautifulSoup(page.content, 'lxml')\n",
    "        descrp= soup.find_all('a',attrs={'class','recipe-card'})\n",
    "        for j in range(len(descrp)):\n",
    "            urlf = descrp[j].get('href')\n",
    "            if urlf not in list_recette :\n",
    "                list_recette.append(urlf)\n",
    "print('%i urls de recettes récupérées' % len(list_recette))"
   ]
  },
  {
   "cell_type": "markdown",
   "metadata": {},
   "source": [
    "Après avoir récupéré toutes les urls contenant des urls de recettes la collecte peut commencer. En parcourant le code source des pages au préalable, nous avons remarqué que celles-ci contiennent un  *.json* contenant toutes les informations de chaque recette. Après avoir localisé ce *.json* nous le collectons pour chaque recette. Chaque *.json* de recette est ainsi ajouté et sauvé dans un fichier général que nous appellons *plats.json* ici et qui regroupera tout les plats du site et leurs informations.\n",
    "\n",
    "Le site marmiton étant un peu à cheval sur le nombre de requêtes envoyées par une même adresse IP, on décide d'également ajouter un $\\texttt{sleep}$ au programme, pour lui permettre de dormir $15$ minutes entre deux rappels à l'ordre."
   ]
  },
  {
   "cell_type": "code",
   "execution_count": 42,
   "metadata": {},
   "outputs": [
    {
     "name": "stdout",
     "output_type": "stream",
     "text": [
      "1 / 105 recettes ajoutées\n",
      "2 / 105 recettes ajoutées\n",
      "3 / 105 recettes ajoutées\n",
      "4 / 105 recettes ajoutées\n",
      "5 / 105 recettes ajoutées\n",
      "6 / 105 recettes ajoutées\n",
      "7 / 105 recettes ajoutées\n",
      "8 / 105 recettes ajoutées\n",
      "9 / 105 recettes ajoutées\n",
      "10 / 105 recettes ajoutées\n",
      "11 / 105 recettes ajoutées\n",
      "12 / 105 recettes ajoutées\n",
      "13 / 105 recettes ajoutées\n",
      "14 / 105 recettes ajoutées\n",
      "15 / 105 recettes ajoutées\n",
      "16 / 105 recettes ajoutées\n",
      "17 / 105 recettes ajoutées\n",
      "18 / 105 recettes ajoutées\n",
      "19 / 105 recettes ajoutées\n",
      "20 / 105 recettes ajoutées\n",
      "21 / 105 recettes ajoutées\n",
      "22 / 105 recettes ajoutées\n",
      "23 / 105 recettes ajoutées\n",
      "24 / 105 recettes ajoutées\n",
      "25 / 105 recettes ajoutées\n",
      "26 / 105 recettes ajoutées\n",
      "27 / 105 recettes ajoutées\n",
      "28 / 105 recettes ajoutées\n",
      "29 / 105 recettes ajoutées\n",
      "30 / 105 recettes ajoutées\n",
      "31 / 105 recettes ajoutées\n",
      "32 / 105 recettes ajoutées\n",
      "33 / 105 recettes ajoutées\n",
      "34 / 105 recettes ajoutées\n",
      "35 / 105 recettes ajoutées\n",
      "36 / 105 recettes ajoutées\n",
      "37 / 105 recettes ajoutées\n",
      "38 / 105 recettes ajoutées\n",
      "39 / 105 recettes ajoutées\n",
      "40 / 105 recettes ajoutées\n",
      "41 / 105 recettes ajoutées\n",
      "42 / 105 recettes ajoutées\n",
      "43 / 105 recettes ajoutées\n",
      "44 / 105 recettes ajoutées\n",
      "45 / 105 recettes ajoutées\n",
      "46 / 105 recettes ajoutées\n",
      "47 / 105 recettes ajoutées\n",
      "48 / 105 recettes ajoutées\n",
      "49 / 105 recettes ajoutées\n",
      "50 / 105 recettes ajoutées\n",
      "51 / 105 recettes ajoutées\n",
      "52 / 105 recettes ajoutées\n",
      "53 / 105 recettes ajoutées\n",
      "54 / 105 recettes ajoutées\n",
      "55 / 105 recettes ajoutées\n",
      "56 / 105 recettes ajoutées\n",
      "57 / 105 recettes ajoutées\n",
      "58 / 105 recettes ajoutées\n",
      "59 / 105 recettes ajoutées\n",
      "60 / 105 recettes ajoutées\n",
      "61 / 105 recettes ajoutées\n",
      "62 / 105 recettes ajoutées\n",
      "63 / 105 recettes ajoutées\n",
      "64 / 105 recettes ajoutées\n",
      "65 / 105 recettes ajoutées\n",
      "66 / 105 recettes ajoutées\n",
      "67 / 105 recettes ajoutées\n",
      "68 / 105 recettes ajoutées\n",
      "69 / 105 recettes ajoutées\n",
      "70 / 105 recettes ajoutées\n",
      "71 / 105 recettes ajoutées\n",
      "72 / 105 recettes ajoutées\n",
      "73 / 105 recettes ajoutées\n",
      "74 / 105 recettes ajoutées\n",
      "75 / 105 recettes ajoutées\n",
      "76 / 105 recettes ajoutées\n",
      "77 / 105 recettes ajoutées\n",
      "78 / 105 recettes ajoutées\n",
      "79 / 105 recettes ajoutées\n",
      "80 / 105 recettes ajoutées\n",
      "81 / 105 recettes ajoutées\n",
      "82 / 105 recettes ajoutées\n",
      "83 / 105 recettes ajoutées\n",
      "84 / 105 recettes ajoutées\n",
      "85 / 105 recettes ajoutées\n",
      "86 / 105 recettes ajoutées\n",
      "87 / 105 recettes ajoutées\n",
      "88 / 105 recettes ajoutées\n",
      "89 / 105 recettes ajoutées\n",
      "90 / 105 recettes ajoutées\n",
      "91 / 105 recettes ajoutées\n",
      "92 / 105 recettes ajoutées\n",
      "93 / 105 recettes ajoutées\n",
      "94 / 105 recettes ajoutées\n",
      "95 / 105 recettes ajoutées\n",
      "96 / 105 recettes ajoutées\n",
      "97 / 105 recettes ajoutées\n",
      "98 / 105 recettes ajoutées\n",
      "99 / 105 recettes ajoutées\n",
      "100 / 105 recettes ajoutées\n",
      "101 / 105 recettes ajoutées\n",
      "102 / 105 recettes ajoutées\n",
      "103 / 105 recettes ajoutées\n",
      "104 / 105 recettes ajoutées\n",
      "105 / 105 recettes ajoutées\n",
      "Fini en 26.33 s\n"
     ]
    }
   ],
   "source": [
    "start = time.time()\n",
    "\n",
    "saveFile = open('plats.json', 'w', encoding='utf-8')\n",
    "#Parcourir toutes les url de recettes et sauvegarder toutes les infos en json\n",
    "for i in range(len(list_recette)):\n",
    "    page = requests.get(prefix + list_recette[i])\n",
    "    soup = BeautifulSoup(page.content, 'lxml')\n",
    "    jsonpickle.set_encoder_options('json', ensure_ascii=False)\n",
    "    try :\n",
    "        text = json.loads(str(soup.find('script', type='application/ld+json'))[58:-22])\n",
    "    except : \n",
    "        print('erreur à l\\'url : ',prefix+list_recette[i])\n",
    "        time.sleep(900)\n",
    "\n",
    "    saveFile.write(jsonpickle.encode(text, unpicklable=False) + '\\n')\n",
    "    print(i+1,'/',len(list_recette),'recettes ajoutées')\n",
    "\n",
    "saveFile.close()\n",
    "elapsed_time=round(time.time()-start,2)\n",
    "print('Fini en',elapsed_time,'s')"
   ]
  },
  {
   "cell_type": "markdown",
   "metadata": {},
   "source": [
    "Le *.json* étant sauvegardé nous pouvons maintenant l'ouvrir pour en lire le contenu."
   ]
  },
  {
   "cell_type": "code",
   "execution_count": 52,
   "metadata": {},
   "outputs": [
    {
     "name": "stdout",
     "output_type": "stream",
     "text": [
      "Soupe Chinoise en plat principal\n",
      "Plat de côtes de porc grillé\n",
      "Haricots plats à la tomate\n",
      "Plat-de-côte, sauce tomate, poivrons.\n",
      "Sablés façon oeuf au plat à la mangue\n",
      "Roulés de sole aux haricots plats et crème légère à la vanille\n",
      "Saucisse fraiche en sauce tomate et haricots plats\n",
      "pavé de cabillaud aux haricots plats et fenouil sauce citronné\n",
      "Haricots plats (coco) pimentés\n",
      "Cocotte terre/mer à la Licorne Bio\n"
     ]
    }
   ],
   "source": [
    "#Pour chercher les recettes dans le json\n",
    "plats=[]\n",
    "for line in open('plats.json','r'):\n",
    "    plats.append(json.loads(line))\n",
    "#On affiche les 10 premiers noms de recettes\n",
    "for i in range(10):\n",
    "    print(plats[i]['name'])"
   ]
  },
  {
   "cell_type": "markdown",
   "metadata": {},
   "source": [
    "Grâce à ce *.json* on peut par exemple prendre une recette et afficher son nom ainsi que les ingrédients qui la compose."
   ]
  },
  {
   "cell_type": "code",
   "execution_count": 50,
   "metadata": {},
   "outputs": [
    {
     "name": "stdout",
     "output_type": "stream",
     "text": [
      "Recette : \n",
      "\n",
      "Soupe Chinoise en plat principal\n",
      "\n",
      "Ingrédients nécessaires : \n",
      "\n",
      "['8 cuisse de poulet', '2 boîte crabe', '30 crevette', '6 oeuf', 'champignon noir', '2 boîte pousse de bambou', 'vermicelles', '400 g germes de soja', 'ciboule', 'chou chinois', 'soja', 'pâte', '1 bouquet coriandre', '1 pot concentré pour soupe chinoise', '2.5 l eau']\n"
     ]
    }
   ],
   "source": [
    "print('Recette : ')\n",
    "print()\n",
    "print(plats[0]['name'])\n",
    "print()\n",
    "print('Ingrédients nécessaires : ')\n",
    "print()\n",
    "print(plats[0]['recipeIngredient'])"
   ]
  }
 ],
 "metadata": {
  "kernelspec": {
   "display_name": "Python 3",
   "language": "python",
   "name": "python3"
  },
  "language_info": {
   "codemirror_mode": {
    "name": "ipython",
    "version": 3
   },
   "file_extension": ".py",
   "mimetype": "text/x-python",
   "name": "python",
   "nbconvert_exporter": "python",
   "pygments_lexer": "ipython3",
   "version": "3.6.2"
  }
 },
 "nbformat": 4,
 "nbformat_minor": 2
}
